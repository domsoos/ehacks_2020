{
  "nbformat": 4,
  "nbformat_minor": 0,
  "metadata": {
    "colab": {
      "name": "Eye Diagnosis.ipynb",
      "provenance": [],
      "collapsed_sections": [],
      "include_colab_link": true
    },
    "kernelspec": {
      "name": "python3",
      "display_name": "Python 3"
    },
    "accelerator": "GPU"
  },
  "cells": [
    {
      "cell_type": "markdown",
      "metadata": {
        "id": "view-in-github",
        "colab_type": "text"
      },
      "source": [
        "<a href=\"https://colab.research.google.com/github/domsoos/ehacks_2020/blob/master/Eye_Diagnosis.ipynb\" target=\"_parent\"><img src=\"https://colab.research.google.com/assets/colab-badge.svg\" alt=\"Open In Colab\"/></a>"
      ]
    },
    {
      "cell_type": "code",
      "metadata": {
        "id": "LiaTg07DHGxO",
        "colab_type": "code",
        "colab": {
          "base_uri": "https://localhost:8080/",
          "height": 34
        },
        "outputId": "740d3f06-dfb9-4101-ba56-b6fecdf297d0"
      },
      "source": [
        "import tensorflow as tf\n",
        "import numpy as np\n",
        "import matplotlib.pyplot as plt\n",
        "from tensorflow.keras.layers import Input, Conv2D, Dense, Flatten, Activation, Dropout, MaxPooling2D, BatchNormalization \n",
        "from tensorflow.keras.models import Model, Sequential\n",
        "from tensorflow.keras.preprocessing.image import ImageDataGenerator \n",
        "from keras import backend as K "
      ],
      "execution_count": null,
      "outputs": [
        {
          "output_type": "stream",
          "text": [
            "Using TensorFlow backend.\n"
          ],
          "name": "stderr"
        }
      ]
    },
    {
      "cell_type": "code",
      "metadata": {
        "id": "wKHeO8oQHLA-",
        "colab_type": "code",
        "colab": {
          "resources": {
            "http://localhost:8080/nbextensions/google.colab/files.js": {
              "data": "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",
              "ok": true,
              "headers": [
                [
                  "content-type",
                  "application/javascript"
                ]
              ],
              "status": 200,
              "status_text": ""
            }
          },
          "base_uri": "https://localhost:8080/",
          "height": 73
        },
        "outputId": "7c9db8ad-146a-4d16-8af9-19b00ed5871b"
      },
      "source": [
        "# Import dataset\n",
        "from google.colab import files\n",
        "data = files.upload()"
      ],
      "execution_count": null,
      "outputs": [
        {
          "output_type": "display_data",
          "data": {
            "text/html": [
              "\n",
              "     <input type=\"file\" id=\"files-ca05ccd7-2883-41fd-9c4e-5ece86f67dc4\" name=\"files[]\" multiple disabled\n",
              "        style=\"border:none\" />\n",
              "     <output id=\"result-ca05ccd7-2883-41fd-9c4e-5ece86f67dc4\">\n",
              "      Upload widget is only available when the cell has been executed in the\n",
              "      current browser session. Please rerun this cell to enable.\n",
              "      </output>\n",
              "      <script src=\"/nbextensions/google.colab/files.js\"></script> "
            ],
            "text/plain": [
              "<IPython.core.display.HTML object>"
            ]
          },
          "metadata": {
            "tags": []
          }
        },
        {
          "output_type": "stream",
          "text": [
            "Saving DATA.zip to DATA.zip\n"
          ],
          "name": "stdout"
        }
      ]
    },
    {
      "cell_type": "code",
      "metadata": {
        "id": "CXtkVt1k31V-",
        "colab_type": "code",
        "colab": {
          "base_uri": "https://localhost:8080/",
          "height": 34
        },
        "outputId": "93759c89-4244-4ab9-da2a-5af69dc21db6"
      },
      "source": [
        "from zipfile import ZipFile\n",
        "with ZipFile('DATA.zip', 'r') as zip:\n",
        "  zip.extractall()\n",
        "  print('Done')\n"
      ],
      "execution_count": null,
      "outputs": [
        {
          "output_type": "stream",
          "text": [
            "Done\n"
          ],
          "name": "stdout"
        }
      ]
    },
    {
      "cell_type": "code",
      "metadata": {
        "id": "nAAn4zt6U3qo",
        "colab_type": "code",
        "colab": {
          "base_uri": "https://localhost:8080/",
          "height": 34
        },
        "outputId": "8e0c0985-57e5-4e8f-d1e5-e4ddfe17ea8d"
      },
      "source": [
        "!ls"
      ],
      "execution_count": null,
      "outputs": [
        {
          "output_type": "stream",
          "text": [
            "DATA  DATA.zip\tsample_data\n"
          ],
          "name": "stdout"
        }
      ]
    },
    {
      "cell_type": "code",
      "metadata": {
        "id": "VqoMK147P92Q",
        "colab_type": "code",
        "colab": {}
      },
      "source": [
        "img_width, img_height = 320, 280"
      ],
      "execution_count": null,
      "outputs": []
    },
    {
      "cell_type": "code",
      "metadata": {
        "id": "NUTgOVUbQoGJ",
        "colab_type": "code",
        "colab": {}
      },
      "source": [
        "train_data_dir = 'DATA/TRAIN'\n",
        "validation_data_dir = 'DATA/VALIDATION'\n",
        "nb_train_samples = 378\n",
        "nb_validation_samples = 100\n",
        "epochs = 100\n",
        "batch_size = 64"
      ],
      "execution_count": null,
      "outputs": []
    },
    {
      "cell_type": "code",
      "metadata": {
        "id": "R85OhUR7QoUT",
        "colab_type": "code",
        "colab": {}
      },
      "source": [
        "if K.image_data_format() == 'channels_first': \n",
        "    input_shape = (3, img_width, img_height) \n",
        "else: \n",
        "    input_shape = (img_width, img_height, 3) "
      ],
      "execution_count": null,
      "outputs": []
    },
    {
      "cell_type": "code",
      "metadata": {
        "id": "Pu-knboiQohc",
        "colab_type": "code",
        "colab": {}
      },
      "source": [
        "model = Sequential() \n",
        "model.add(Conv2D(16, (2, 2))) \n",
        "model.add(Activation('relu'))\n",
        "model.add(BatchNormalization()) \n",
        "model.add(MaxPooling2D(pool_size=(2, 2)))\n",
        "\n",
        "model.add(Conv2D(32, (2, 2), input_shape=input_shape)) \n",
        "model.add(Activation('relu')) \n",
        "model.add(BatchNormalization()) \n",
        "model.add(MaxPooling2D(pool_size=(2, 2))) \n",
        "  \n",
        "model.add(Conv2D(32, (2, 2))) \n",
        "model.add(Activation('relu')) \n",
        "model.add(BatchNormalization()) \n",
        "model.add(MaxPooling2D(pool_size=(2, 2))) \n",
        "  \n",
        "model.add(Conv2D(64, (2, 2))) \n",
        "model.add(Activation('relu')) \n",
        "model.add(BatchNormalization()) \n",
        "model.add(MaxPooling2D(pool_size=(2, 2))) \n",
        "\n",
        "model.add(Conv2D(64, (2, 2))) \n",
        "model.add(Activation('relu')) \n",
        "model.add(BatchNormalization()) \n",
        "model.add(MaxPooling2D(pool_size=(2, 2))) \n",
        "\n",
        "model.add(Conv2D(128, (2, 2))) \n",
        "model.add(Activation('relu')) \n",
        "model.add(BatchNormalization()) \n",
        "model.add(MaxPooling2D(pool_size=(2, 2))) \n",
        "\n",
        "model.add(Flatten()) \n",
        "model.add(Dense(1024)) \n",
        "model.add(Activation('relu')) \n",
        "model.add(Dense(512)) \n",
        "model.add(Activation('relu')) \n",
        "model.add(Dropout(0.5)) \n",
        "model.add(Dense(1)) \n",
        "model.add(Activation('sigmoid')) "
      ],
      "execution_count": null,
      "outputs": []
    },
    {
      "cell_type": "code",
      "metadata": {
        "id": "MThJ3H2yRPyi",
        "colab_type": "code",
        "colab": {}
      },
      "source": [
        "model.compile(loss='binary_crossentropy', \n",
        "              optimizer='rmsprop', \n",
        "              metrics=['accuracy']) "
      ],
      "execution_count": null,
      "outputs": []
    },
    {
      "cell_type": "code",
      "metadata": {
        "id": "iWt5tF6uRcDk",
        "colab_type": "code",
        "colab": {
          "base_uri": "https://localhost:8080/",
          "height": 1000
        },
        "outputId": "579d293b-255d-4485-8e13-80423004d909"
      },
      "source": [
        "train_datagen = ImageDataGenerator( \n",
        "    rescale=1. / 255, \n",
        "    shear_range=0.2, \n",
        "    zoom_range=0.2, \n",
        "    horizontal_flip=True) \n",
        "  \n",
        "test_datagen = ImageDataGenerator(rescale=1. / 255) \n",
        "  \n",
        "train_generator = train_datagen.flow_from_directory( \n",
        "    train_data_dir, \n",
        "    target_size=(img_width, img_height), \n",
        "    batch_size=batch_size, \n",
        "    class_mode='binary') \n",
        "  \n",
        "validation_generator = test_datagen.flow_from_directory( \n",
        "    validation_data_dir, \n",
        "    target_size=(img_width, img_height), \n",
        "    batch_size=batch_size, \n",
        "    class_mode='binary') \n",
        "  \n",
        "model.fit_generator( \n",
        "    train_generator, \n",
        "    steps_per_epoch=nb_train_samples // batch_size, \n",
        "    epochs=epochs, \n",
        "    validation_data=validation_generator, \n",
        "    validation_steps=nb_validation_samples // batch_size) "
      ],
      "execution_count": null,
      "outputs": [
        {
          "output_type": "stream",
          "text": [
            "Found 378 images belonging to 2 classes.\n",
            "Found 100 images belonging to 2 classes.\n",
            "Epoch 1/100\n",
            "5/5 [==============================] - 5s 995ms/step - loss: 6.7061 - accuracy: 0.5000 - val_loss: 0.7040 - val_accuracy: 0.5000\n",
            "Epoch 2/100\n",
            "5/5 [==============================] - 5s 941ms/step - loss: 0.9323 - accuracy: 0.5159 - val_loss: 0.7375 - val_accuracy: 0.5000\n",
            "Epoch 3/100\n",
            "5/5 [==============================] - 5s 945ms/step - loss: 0.8025 - accuracy: 0.5219 - val_loss: 0.7718 - val_accuracy: 0.5156\n",
            "Epoch 4/100\n",
            "5/5 [==============================] - 5s 956ms/step - loss: 0.7018 - accuracy: 0.5437 - val_loss: 0.8566 - val_accuracy: 0.5000\n",
            "Epoch 5/100\n",
            "5/5 [==============================] - 5s 947ms/step - loss: 0.7643 - accuracy: 0.5318 - val_loss: 0.9457 - val_accuracy: 0.4844\n",
            "Epoch 6/100\n",
            "5/5 [==============================] - 5s 935ms/step - loss: 0.6634 - accuracy: 0.6178 - val_loss: 0.9833 - val_accuracy: 0.5000\n",
            "Epoch 7/100\n",
            "5/5 [==============================] - 5s 965ms/step - loss: 0.7603 - accuracy: 0.5510 - val_loss: 1.1129 - val_accuracy: 0.4844\n",
            "Epoch 8/100\n",
            "5/5 [==============================] - 5s 958ms/step - loss: 0.6963 - accuracy: 0.5478 - val_loss: 1.1013 - val_accuracy: 0.5312\n",
            "Epoch 9/100\n",
            "5/5 [==============================] - 5s 953ms/step - loss: 0.6658 - accuracy: 0.5860 - val_loss: 1.5023 - val_accuracy: 0.5000\n",
            "Epoch 10/100\n",
            "5/5 [==============================] - 5s 963ms/step - loss: 0.6377 - accuracy: 0.6592 - val_loss: 1.7203 - val_accuracy: 0.4844\n",
            "Epoch 11/100\n",
            "5/5 [==============================] - 5s 968ms/step - loss: 0.7428 - accuracy: 0.6019 - val_loss: 1.7344 - val_accuracy: 0.5312\n",
            "Epoch 12/100\n",
            "5/5 [==============================] - 5s 960ms/step - loss: 0.7066 - accuracy: 0.6306 - val_loss: 2.0154 - val_accuracy: 0.5000\n",
            "Epoch 13/100\n",
            "5/5 [==============================] - 5s 979ms/step - loss: 0.7395 - accuracy: 0.5446 - val_loss: 2.3771 - val_accuracy: 0.4688\n",
            "Epoch 14/100\n",
            "5/5 [==============================] - 5s 975ms/step - loss: 0.5706 - accuracy: 0.6752 - val_loss: 2.4564 - val_accuracy: 0.5000\n",
            "Epoch 15/100\n",
            "5/5 [==============================] - 5s 972ms/step - loss: 0.5985 - accuracy: 0.6720 - val_loss: 2.7018 - val_accuracy: 0.5000\n",
            "Epoch 16/100\n",
            "5/5 [==============================] - 5s 985ms/step - loss: 0.8327 - accuracy: 0.6094 - val_loss: 2.4001 - val_accuracy: 0.5312\n",
            "Epoch 17/100\n",
            "5/5 [==============================] - 5s 975ms/step - loss: 0.6147 - accuracy: 0.6656 - val_loss: 2.6751 - val_accuracy: 0.4688\n",
            "Epoch 18/100\n",
            "5/5 [==============================] - 5s 949ms/step - loss: 0.5695 - accuracy: 0.7134 - val_loss: 2.5620 - val_accuracy: 0.5469\n",
            "Epoch 19/100\n",
            "5/5 [==============================] - 5s 996ms/step - loss: 0.5246 - accuracy: 0.7437 - val_loss: 3.4239 - val_accuracy: 0.4531\n",
            "Epoch 20/100\n",
            "5/5 [==============================] - 5s 966ms/step - loss: 0.4859 - accuracy: 0.7643 - val_loss: 2.9328 - val_accuracy: 0.5469\n",
            "Epoch 21/100\n",
            "5/5 [==============================] - 5s 949ms/step - loss: 0.6695 - accuracy: 0.6561 - val_loss: 2.2394 - val_accuracy: 0.5312\n",
            "Epoch 22/100\n",
            "5/5 [==============================] - 5s 948ms/step - loss: 0.5037 - accuracy: 0.7229 - val_loss: 2.4268 - val_accuracy: 0.5156\n",
            "Epoch 23/100\n",
            "5/5 [==============================] - 5s 944ms/step - loss: 0.4549 - accuracy: 0.8185 - val_loss: 3.5822 - val_accuracy: 0.4844\n",
            "Epoch 24/100\n",
            "5/5 [==============================] - 5s 972ms/step - loss: 0.3655 - accuracy: 0.8250 - val_loss: 3.0045 - val_accuracy: 0.5156\n",
            "Epoch 25/100\n",
            "5/5 [==============================] - 5s 991ms/step - loss: 0.5434 - accuracy: 0.7675 - val_loss: 2.6725 - val_accuracy: 0.4688\n",
            "Epoch 26/100\n",
            "5/5 [==============================] - 5s 970ms/step - loss: 0.4437 - accuracy: 0.8025 - val_loss: 4.9337 - val_accuracy: 0.5000\n",
            "Epoch 27/100\n",
            "5/5 [==============================] - 5s 934ms/step - loss: 0.3283 - accuracy: 0.8662 - val_loss: 2.9754 - val_accuracy: 0.4688\n",
            "Epoch 28/100\n",
            "5/5 [==============================] - 5s 938ms/step - loss: 0.5172 - accuracy: 0.8057 - val_loss: 1.8503 - val_accuracy: 0.5312\n",
            "Epoch 29/100\n",
            "5/5 [==============================] - 5s 942ms/step - loss: 0.2675 - accuracy: 0.8790 - val_loss: 3.8454 - val_accuracy: 0.4688\n",
            "Epoch 30/100\n",
            "5/5 [==============================] - 5s 931ms/step - loss: 0.2976 - accuracy: 0.8949 - val_loss: 1.4447 - val_accuracy: 0.5000\n",
            "Epoch 31/100\n",
            "5/5 [==============================] - 5s 966ms/step - loss: 0.2129 - accuracy: 0.9219 - val_loss: 1.9962 - val_accuracy: 0.5156\n",
            "Epoch 32/100\n",
            "5/5 [==============================] - 5s 967ms/step - loss: 0.2779 - accuracy: 0.8949 - val_loss: 1.4192 - val_accuracy: 0.5312\n",
            "Epoch 33/100\n",
            "5/5 [==============================] - 5s 962ms/step - loss: 0.3262 - accuracy: 0.8781 - val_loss: 1.0884 - val_accuracy: 0.5312\n",
            "Epoch 34/100\n",
            "5/5 [==============================] - 5s 943ms/step - loss: 0.3522 - accuracy: 0.8503 - val_loss: 1.9765 - val_accuracy: 0.5156\n",
            "Epoch 35/100\n",
            "5/5 [==============================] - 5s 958ms/step - loss: 0.2041 - accuracy: 0.9187 - val_loss: 1.4273 - val_accuracy: 0.5156\n",
            "Epoch 36/100\n",
            "5/5 [==============================] - 5s 925ms/step - loss: 0.1345 - accuracy: 0.9427 - val_loss: 1.1655 - val_accuracy: 0.5312\n",
            "Epoch 37/100\n",
            "5/5 [==============================] - 5s 929ms/step - loss: 0.3107 - accuracy: 0.8694 - val_loss: 1.3978 - val_accuracy: 0.4688\n",
            "Epoch 38/100\n",
            "5/5 [==============================] - 5s 944ms/step - loss: 0.1180 - accuracy: 0.9688 - val_loss: 2.4656 - val_accuracy: 0.5312\n",
            "Epoch 39/100\n",
            "5/5 [==============================] - 5s 918ms/step - loss: 0.2115 - accuracy: 0.9459 - val_loss: 2.6800 - val_accuracy: 0.5312\n",
            "Epoch 40/100\n",
            "5/5 [==============================] - 5s 925ms/step - loss: 0.3124 - accuracy: 0.8854 - val_loss: 2.8616 - val_accuracy: 0.5156\n",
            "Epoch 41/100\n",
            "5/5 [==============================] - 5s 928ms/step - loss: 0.2016 - accuracy: 0.9236 - val_loss: 1.6066 - val_accuracy: 0.5469\n",
            "Epoch 42/100\n",
            "5/5 [==============================] - 5s 955ms/step - loss: 0.1108 - accuracy: 0.9618 - val_loss: 1.2348 - val_accuracy: 0.4062\n",
            "Epoch 43/100\n",
            "5/5 [==============================] - 5s 958ms/step - loss: 0.2321 - accuracy: 0.9427 - val_loss: 3.9344 - val_accuracy: 0.4844\n",
            "Epoch 44/100\n",
            "5/5 [==============================] - 5s 945ms/step - loss: 0.3500 - accuracy: 0.8503 - val_loss: 1.8054 - val_accuracy: 0.5469\n",
            "Epoch 45/100\n",
            "5/5 [==============================] - 5s 940ms/step - loss: 0.0772 - accuracy: 0.9745 - val_loss: 2.2449 - val_accuracy: 0.4219\n",
            "Epoch 46/100\n",
            "5/5 [==============================] - 5s 956ms/step - loss: 0.1219 - accuracy: 0.9594 - val_loss: 1.8453 - val_accuracy: 0.6094\n",
            "Epoch 47/100\n",
            "5/5 [==============================] - 5s 929ms/step - loss: 0.1124 - accuracy: 0.9522 - val_loss: 3.0561 - val_accuracy: 0.3906\n",
            "Epoch 48/100\n",
            "5/5 [==============================] - 5s 929ms/step - loss: 0.0748 - accuracy: 0.9713 - val_loss: 2.7169 - val_accuracy: 0.3438\n",
            "Epoch 49/100\n",
            "5/5 [==============================] - 5s 950ms/step - loss: 0.1248 - accuracy: 0.9531 - val_loss: 3.5182 - val_accuracy: 0.4375\n",
            "Epoch 50/100\n",
            "5/5 [==============================] - 5s 940ms/step - loss: 0.4890 - accuracy: 0.8217 - val_loss: 2.7725 - val_accuracy: 0.3594\n",
            "Epoch 51/100\n",
            "5/5 [==============================] - 5s 959ms/step - loss: 0.1873 - accuracy: 0.9281 - val_loss: 2.2845 - val_accuracy: 0.5156\n",
            "Epoch 52/100\n",
            "5/5 [==============================] - 5s 940ms/step - loss: 0.1067 - accuracy: 0.9650 - val_loss: 2.8306 - val_accuracy: 0.4375\n",
            "Epoch 53/100\n",
            "5/5 [==============================] - 5s 936ms/step - loss: 0.0657 - accuracy: 0.9713 - val_loss: 3.1762 - val_accuracy: 0.4844\n",
            "Epoch 54/100\n",
            "5/5 [==============================] - 5s 957ms/step - loss: 0.0600 - accuracy: 0.9745 - val_loss: 2.9450 - val_accuracy: 0.4219\n",
            "Epoch 55/100\n",
            "5/5 [==============================] - 5s 956ms/step - loss: 0.0359 - accuracy: 0.9904 - val_loss: 3.6991 - val_accuracy: 0.4062\n",
            "Epoch 56/100\n",
            "5/5 [==============================] - 5s 947ms/step - loss: 0.1729 - accuracy: 0.9331 - val_loss: 4.1962 - val_accuracy: 0.3125\n",
            "Epoch 57/100\n",
            "5/5 [==============================] - 5s 949ms/step - loss: 0.1571 - accuracy: 0.9459 - val_loss: 3.9192 - val_accuracy: 0.5156\n",
            "Epoch 58/100\n",
            "5/5 [==============================] - 5s 954ms/step - loss: 0.1115 - accuracy: 0.9563 - val_loss: 3.5050 - val_accuracy: 0.4844\n",
            "Epoch 59/100\n",
            "5/5 [==============================] - 5s 939ms/step - loss: 0.0584 - accuracy: 0.9841 - val_loss: 5.0278 - val_accuracy: 0.3281\n",
            "Epoch 60/100\n",
            "5/5 [==============================] - 5s 933ms/step - loss: 0.1275 - accuracy: 0.9490 - val_loss: 3.2944 - val_accuracy: 0.4688\n",
            "Epoch 61/100\n",
            "5/5 [==============================] - 5s 929ms/step - loss: 0.2314 - accuracy: 0.9268 - val_loss: 5.8849 - val_accuracy: 0.4531\n",
            "Epoch 62/100\n",
            "5/5 [==============================] - 5s 930ms/step - loss: 0.0611 - accuracy: 0.9841 - val_loss: 4.3721 - val_accuracy: 0.3906\n",
            "Epoch 63/100\n",
            "5/5 [==============================] - 5s 927ms/step - loss: 0.0617 - accuracy: 0.9713 - val_loss: 4.5272 - val_accuracy: 0.4375\n",
            "Epoch 64/100\n",
            "5/5 [==============================] - 5s 924ms/step - loss: 0.1136 - accuracy: 0.9745 - val_loss: 5.1801 - val_accuracy: 0.4375\n",
            "Epoch 65/100\n",
            "5/5 [==============================] - 5s 942ms/step - loss: 0.0968 - accuracy: 0.9586 - val_loss: 5.1518 - val_accuracy: 0.4375\n",
            "Epoch 66/100\n",
            "5/5 [==============================] - 5s 924ms/step - loss: 0.0837 - accuracy: 0.9745 - val_loss: 4.5300 - val_accuracy: 0.3906\n",
            "Epoch 67/100\n",
            "5/5 [==============================] - 5s 952ms/step - loss: 0.0539 - accuracy: 0.9812 - val_loss: 4.1973 - val_accuracy: 0.3750\n",
            "Epoch 68/100\n",
            "5/5 [==============================] - 5s 940ms/step - loss: 0.2339 - accuracy: 0.9204 - val_loss: 5.0461 - val_accuracy: 0.3906\n",
            "Epoch 69/100\n",
            "5/5 [==============================] - 5s 944ms/step - loss: 0.0405 - accuracy: 0.9873 - val_loss: 4.5260 - val_accuracy: 0.4688\n",
            "Epoch 70/100\n",
            "5/5 [==============================] - 5s 932ms/step - loss: 0.0977 - accuracy: 0.9713 - val_loss: 3.5848 - val_accuracy: 0.4062\n",
            "Epoch 71/100\n",
            "5/5 [==============================] - 5s 953ms/step - loss: 0.0464 - accuracy: 0.9875 - val_loss: 4.0456 - val_accuracy: 0.3906\n",
            "Epoch 72/100\n",
            "5/5 [==============================] - 5s 976ms/step - loss: 0.0258 - accuracy: 0.9875 - val_loss: 2.5700 - val_accuracy: 0.4688\n",
            "Epoch 73/100\n",
            "5/5 [==============================] - 5s 963ms/step - loss: 0.0358 - accuracy: 0.9873 - val_loss: 7.2795 - val_accuracy: 0.3594\n",
            "Epoch 74/100\n",
            "5/5 [==============================] - 5s 939ms/step - loss: 0.4171 - accuracy: 0.9363 - val_loss: 4.0181 - val_accuracy: 0.4844\n",
            "Epoch 75/100\n",
            "5/5 [==============================] - 5s 958ms/step - loss: 0.0348 - accuracy: 0.9904 - val_loss: 4.3749 - val_accuracy: 0.5312\n",
            "Epoch 76/100\n",
            "5/5 [==============================] - 5s 929ms/step - loss: 0.0276 - accuracy: 0.9936 - val_loss: 3.8477 - val_accuracy: 0.4844\n",
            "Epoch 77/100\n",
            "5/5 [==============================] - 5s 930ms/step - loss: 0.0117 - accuracy: 0.9968 - val_loss: 3.7826 - val_accuracy: 0.5000\n",
            "Epoch 78/100\n",
            "5/5 [==============================] - 5s 934ms/step - loss: 0.0225 - accuracy: 0.9936 - val_loss: 3.5266 - val_accuracy: 0.5625\n",
            "Epoch 79/100\n",
            "5/5 [==============================] - 5s 956ms/step - loss: 0.2953 - accuracy: 0.9140 - val_loss: 4.4189 - val_accuracy: 0.4375\n",
            "Epoch 80/100\n",
            "5/5 [==============================] - 5s 956ms/step - loss: 0.0745 - accuracy: 0.9841 - val_loss: 5.7255 - val_accuracy: 0.4219\n",
            "Epoch 81/100\n",
            "5/5 [==============================] - 5s 944ms/step - loss: 0.0267 - accuracy: 0.9904 - val_loss: 4.5660 - val_accuracy: 0.4688\n",
            "Epoch 82/100\n",
            "5/5 [==============================] - 5s 938ms/step - loss: 0.0349 - accuracy: 0.9873 - val_loss: 5.5428 - val_accuracy: 0.4219\n",
            "Epoch 83/100\n",
            "5/5 [==============================] - 5s 926ms/step - loss: 0.0152 - accuracy: 0.9968 - val_loss: 5.1182 - val_accuracy: 0.4844\n",
            "Epoch 84/100\n",
            "5/5 [==============================] - 5s 949ms/step - loss: 0.0255 - accuracy: 0.9875 - val_loss: 3.6054 - val_accuracy: 0.5781\n",
            "Epoch 85/100\n",
            "5/5 [==============================] - 5s 953ms/step - loss: 0.0290 - accuracy: 0.9873 - val_loss: 4.5178 - val_accuracy: 0.5938\n",
            "Epoch 86/100\n",
            "5/5 [==============================] - 5s 948ms/step - loss: 0.2529 - accuracy: 0.9438 - val_loss: 8.9536 - val_accuracy: 0.5156\n",
            "Epoch 87/100\n",
            "5/5 [==============================] - 5s 939ms/step - loss: 0.0768 - accuracy: 0.9713 - val_loss: 4.9020 - val_accuracy: 0.4844\n",
            "Epoch 88/100\n",
            "5/5 [==============================] - 5s 954ms/step - loss: 0.0412 - accuracy: 0.9844 - val_loss: 6.0129 - val_accuracy: 0.5625\n",
            "Epoch 89/100\n",
            "5/5 [==============================] - 5s 952ms/step - loss: 0.0770 - accuracy: 0.9719 - val_loss: 7.5346 - val_accuracy: 0.4844\n",
            "Epoch 90/100\n",
            "5/5 [==============================] - 5s 938ms/step - loss: 0.0164 - accuracy: 0.9936 - val_loss: 7.2349 - val_accuracy: 0.4688\n",
            "Epoch 91/100\n",
            "5/5 [==============================] - 5s 936ms/step - loss: 0.0253 - accuracy: 0.9841 - val_loss: 13.2349 - val_accuracy: 0.4219\n",
            "Epoch 92/100\n",
            "5/5 [==============================] - 5s 929ms/step - loss: 0.0301 - accuracy: 0.9841 - val_loss: 16.1421 - val_accuracy: 0.4219\n",
            "Epoch 93/100\n",
            "5/5 [==============================] - 5s 943ms/step - loss: 0.0685 - accuracy: 0.9777 - val_loss: 21.0448 - val_accuracy: 0.4688\n",
            "Epoch 94/100\n",
            "5/5 [==============================] - 5s 940ms/step - loss: 0.0749 - accuracy: 0.9682 - val_loss: 4.2041 - val_accuracy: 0.5000\n",
            "Epoch 95/100\n",
            "5/5 [==============================] - 5s 951ms/step - loss: 0.1193 - accuracy: 0.9594 - val_loss: 11.4924 - val_accuracy: 0.4844\n",
            "Epoch 96/100\n",
            "5/5 [==============================] - 5s 932ms/step - loss: 0.1093 - accuracy: 0.9618 - val_loss: 6.0637 - val_accuracy: 0.4062\n",
            "Epoch 97/100\n",
            "5/5 [==============================] - 5s 945ms/step - loss: 0.0157 - accuracy: 0.9936 - val_loss: 5.3663 - val_accuracy: 0.4531\n",
            "Epoch 98/100\n",
            "5/5 [==============================] - 5s 930ms/step - loss: 0.0726 - accuracy: 0.9841 - val_loss: 5.6363 - val_accuracy: 0.4688\n",
            "Epoch 99/100\n",
            "5/5 [==============================] - 5s 931ms/step - loss: 0.0143 - accuracy: 0.9904 - val_loss: 5.6256 - val_accuracy: 0.4844\n",
            "Epoch 100/100\n",
            "5/5 [==============================] - 5s 957ms/step - loss: 0.0300 - accuracy: 0.9906 - val_loss: 4.6311 - val_accuracy: 0.4844\n"
          ],
          "name": "stdout"
        },
        {
          "output_type": "execute_result",
          "data": {
            "text/plain": [
              "<tensorflow.python.keras.callbacks.History at 0x7fdf8a522a90>"
            ]
          },
          "metadata": {
            "tags": []
          },
          "execution_count": 45
        }
      ]
    },
    {
      "cell_type": "code",
      "metadata": {
        "id": "3YtitD95cuud",
        "colab_type": "code",
        "colab": {
          "base_uri": "https://localhost:8080/",
          "height": 34
        },
        "outputId": "b087919c-db42-404c-dbb5-fc276035fb2a"
      },
      "source": [
        "model_json = model.to_json()\n",
        "with open(\"model.json\", \"w\") as json_file:\n",
        "    json_file.write(model_json)\n",
        "# serialize weights to HDF5\n",
        "model.save_weights(\"model.h5\")\n",
        "print(\"Saved model to disk\")"
      ],
      "execution_count": null,
      "outputs": [
        {
          "output_type": "stream",
          "text": [
            "Saved model to disk\n"
          ],
          "name": "stdout"
        }
      ]
    },
    {
      "cell_type": "code",
      "metadata": {
        "id": "LdAcELFcdKeY",
        "colab_type": "code",
        "colab": {
          "base_uri": "https://localhost:8080/",
          "height": 34
        },
        "outputId": "1a3997a9-bc96-421e-b742-eb71deb68108"
      },
      "source": [
        "from google.colab import files\n",
        "files.download(\"model.json\")\n",
        "files.download(\"model.h5\")"
      ],
      "execution_count": null,
      "outputs": [
        {
          "output_type": "display_data",
          "data": {
            "application/javascript": [
              "\n",
              "    async function download(id, filename, size) {\n",
              "      if (!google.colab.kernel.accessAllowed) {\n",
              "        return;\n",
              "      }\n",
              "      const div = document.createElement('div');\n",
              "      const label = document.createElement('label');\n",
              "      label.textContent = `Downloading \"${filename}\": `;\n",
              "      div.appendChild(label);\n",
              "      const progress = document.createElement('progress');\n",
              "      progress.max = size;\n",
              "      div.appendChild(progress);\n",
              "      document.body.appendChild(div);\n",
              "\n",
              "      const buffers = [];\n",
              "      let downloaded = 0;\n",
              "\n",
              "      const channel = await google.colab.kernel.comms.open(id);\n",
              "      // Send a message to notify the kernel that we're ready.\n",
              "      channel.send({})\n",
              "\n",
              "      for await (const message of channel.messages) {\n",
              "        // Send a message to notify the kernel that we're ready.\n",
              "        channel.send({})\n",
              "        if (message.buffers) {\n",
              "          for (const buffer of message.buffers) {\n",
              "            buffers.push(buffer);\n",
              "            downloaded += buffer.byteLength;\n",
              "            progress.value = downloaded;\n",
              "          }\n",
              "        }\n",
              "      }\n",
              "      const blob = new Blob(buffers, {type: 'application/binary'});\n",
              "      const a = document.createElement('a');\n",
              "      a.href = window.URL.createObjectURL(blob);\n",
              "      a.download = filename;\n",
              "      div.appendChild(a);\n",
              "      a.click();\n",
              "      div.remove();\n",
              "    }\n",
              "  "
            ],
            "text/plain": [
              "<IPython.core.display.Javascript object>"
            ]
          },
          "metadata": {
            "tags": []
          }
        },
        {
          "output_type": "display_data",
          "data": {
            "application/javascript": [
              "download(\"download_3faa4880-5da6-4c6c-8c4f-7e23221e8f0a\", \"model.json\", 10807)"
            ],
            "text/plain": [
              "<IPython.core.display.Javascript object>"
            ]
          },
          "metadata": {
            "tags": []
          }
        },
        {
          "output_type": "display_data",
          "data": {
            "application/javascript": [
              "\n",
              "    async function download(id, filename, size) {\n",
              "      if (!google.colab.kernel.accessAllowed) {\n",
              "        return;\n",
              "      }\n",
              "      const div = document.createElement('div');\n",
              "      const label = document.createElement('label');\n",
              "      label.textContent = `Downloading \"${filename}\": `;\n",
              "      div.appendChild(label);\n",
              "      const progress = document.createElement('progress');\n",
              "      progress.max = size;\n",
              "      div.appendChild(progress);\n",
              "      document.body.appendChild(div);\n",
              "\n",
              "      const buffers = [];\n",
              "      let downloaded = 0;\n",
              "\n",
              "      const channel = await google.colab.kernel.comms.open(id);\n",
              "      // Send a message to notify the kernel that we're ready.\n",
              "      channel.send({})\n",
              "\n",
              "      for await (const message of channel.messages) {\n",
              "        // Send a message to notify the kernel that we're ready.\n",
              "        channel.send({})\n",
              "        if (message.buffers) {\n",
              "          for (const buffer of message.buffers) {\n",
              "            buffers.push(buffer);\n",
              "            downloaded += buffer.byteLength;\n",
              "            progress.value = downloaded;\n",
              "          }\n",
              "        }\n",
              "      }\n",
              "      const blob = new Blob(buffers, {type: 'application/binary'});\n",
              "      const a = document.createElement('a');\n",
              "      a.href = window.URL.createObjectURL(blob);\n",
              "      a.download = filename;\n",
              "      div.appendChild(a);\n",
              "      a.click();\n",
              "      div.remove();\n",
              "    }\n",
              "  "
            ],
            "text/plain": [
              "<IPython.core.display.Javascript object>"
            ]
          },
          "metadata": {
            "tags": []
          }
        },
        {
          "output_type": "display_data",
          "data": {
            "application/javascript": [
              "download(\"download_904a7bf2-dae1-4f0d-affd-de8907a65335\", \"model.h5\", 8743336)"
            ],
            "text/plain": [
              "<IPython.core.display.Javascript object>"
            ]
          },
          "metadata": {
            "tags": []
          }
        }
      ]
    }
  ]
}